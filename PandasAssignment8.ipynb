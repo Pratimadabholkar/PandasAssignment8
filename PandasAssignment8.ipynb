{
 "cells": [
  {
   "cell_type": "code",
   "execution_count": 38,
   "metadata": {},
   "outputs": [
    {
     "name": "stdout",
     "output_type": "stream",
     "text": [
      "0    7\n",
      "1    2\n",
      "2    0\n",
      "3    3\n",
      "4    4\n",
      "5    2\n",
      "6    5\n",
      "7    0\n",
      "8    3\n",
      "9    4\n",
      "Name: X, dtype: int64\n",
      "0    1\n",
      "1    2\n",
      "2    0\n",
      "3    1\n",
      "4    2\n",
      "5    3\n",
      "6    4\n",
      "7    0\n",
      "8    1\n",
      "9    2\n",
      "Name: Y, dtype: int64\n"
     ]
    }
   ],
   "source": [
    "#1) How-to-count-distance-to-the-previous-zero\n",
    "#For each value, count the difference of the distance from the previous zero (or the start\n",
    "#of the Series, whichever is closer) and if there are no previous zeros,print the position\n",
    "#Consider a DataFrame df where there is an integer column {'X':[7, 2, 0, 3, 4, 2, 5, 0, 3, 4]}\n",
    "#The values should therefore be [1, 2, 0, 1, 2, 3, 4, 0, 1, 2]. Make this a new column 'Y'.\n",
    "import pandas as pd\n",
    "import numpy as np\n",
    "\n",
    "df = pd.DataFrame({'X': [7, 2, 0, 3, 4, 2, 5, 0, 3, 4]})\n",
    "print(df['X'])\n",
    "izero = np.r_[-1, (df['X'] == 0).nonzero()[0]] # indices of zeros\n",
    "idx = np.arange(len(df))\n",
    "df['Y'] = idx - izero[np.searchsorted(izero - 1, idx) - 1]\n",
    "print(df['Y'])"
   ]
  },
  {
   "cell_type": "code",
   "execution_count": 39,
   "metadata": {},
   "outputs": [
    {
     "data": {
      "text/plain": [
       "2015-01-01    0.116153\n",
       "2015-01-02    0.812892\n",
       "2015-01-05    0.014438\n",
       "2015-01-06    0.999612\n",
       "2015-01-07    0.107180\n",
       "2015-01-08    0.166323\n",
       "2015-01-09    0.968342\n",
       "2015-01-12    0.173094\n",
       "2015-01-13    0.705219\n",
       "2015-01-14    0.511581\n",
       "2015-01-15    0.765023\n",
       "2015-01-16    0.789898\n",
       "2015-01-19    0.200964\n",
       "2015-01-20    0.120111\n",
       "2015-01-21    0.586361\n",
       "2015-01-22    0.878095\n",
       "2015-01-23    0.366037\n",
       "2015-01-26    0.991491\n",
       "2015-01-27    0.640597\n",
       "2015-01-28    0.775254\n",
       "2015-01-29    0.825202\n",
       "2015-01-30    0.599569\n",
       "2015-02-02    0.477033\n",
       "2015-02-03    0.392855\n",
       "2015-02-04    0.310348\n",
       "2015-02-05    0.934893\n",
       "2015-02-06    0.188667\n",
       "2015-02-09    0.789903\n",
       "2015-02-10    0.897924\n",
       "2015-02-11    0.948970\n",
       "                ...   \n",
       "2015-11-20    0.154544\n",
       "2015-11-23    0.347136\n",
       "2015-11-24    0.309015\n",
       "2015-11-25    0.065119\n",
       "2015-11-26    0.613445\n",
       "2015-11-27    0.028093\n",
       "2015-11-30    0.886431\n",
       "2015-12-01    0.440228\n",
       "2015-12-02    0.920918\n",
       "2015-12-03    0.596108\n",
       "2015-12-04    0.386636\n",
       "2015-12-07    0.236508\n",
       "2015-12-08    0.842325\n",
       "2015-12-09    0.637806\n",
       "2015-12-10    0.755018\n",
       "2015-12-11    0.696511\n",
       "2015-12-14    0.359415\n",
       "2015-12-15    0.167779\n",
       "2015-12-16    0.417019\n",
       "2015-12-17    0.917206\n",
       "2015-12-18    0.158569\n",
       "2015-12-21    0.747930\n",
       "2015-12-22    0.560745\n",
       "2015-12-23    0.800733\n",
       "2015-12-24    0.153835\n",
       "2015-12-25    0.484048\n",
       "2015-12-28    0.298290\n",
       "2015-12-29    0.735240\n",
       "2015-12-30    0.156701\n",
       "2015-12-31    0.723168\n",
       "Freq: B, Length: 261, dtype: float64"
      ]
     },
     "execution_count": 39,
     "metadata": {},
     "output_type": "execute_result"
    }
   ],
   "source": [
    "#2) Create a DatetimeIndex that contains each business day of 2015 and use it to index a\n",
    "#Series of random numbers.\n",
    "dti = pd.date_range(start='2015-01-01', end='2015-12-31', freq='B') \n",
    "s = pd.Series(np.random.rand(len(dti)), index=dti)\n",
    "s"
   ]
  },
  {
   "cell_type": "code",
   "execution_count": 40,
   "metadata": {},
   "outputs": [
    {
     "data": {
      "text/plain": [
       "26.361747392297648"
      ]
     },
     "execution_count": 40,
     "metadata": {},
     "output_type": "execute_result"
    }
   ],
   "source": [
    "#3) Find the sum of the values in s for every Wednesday\n",
    "s[dti.weekday == 2].sum() "
   ]
  },
  {
   "cell_type": "code",
   "execution_count": 41,
   "metadata": {},
   "outputs": [
    {
     "name": "stderr",
     "output_type": "stream",
     "text": [
      "C:\\Users\\HP\\Anaconda3\\lib\\site-packages\\ipykernel_launcher.py:2: FutureWarning: how in .resample() is deprecated\n",
      "the new syntax is .resample(...).mean()\n",
      "  \n"
     ]
    },
    {
     "data": {
      "text/plain": [
       "2015-01-31    0.550611\n",
       "2015-02-28    0.590127\n",
       "2015-03-31    0.542874\n",
       "2015-04-30    0.571224\n",
       "2015-05-31    0.515000\n",
       "2015-06-30    0.521400\n",
       "2015-07-31    0.571122\n",
       "2015-08-31    0.635755\n",
       "2015-09-30    0.428026\n",
       "2015-10-31    0.472065\n",
       "2015-11-30    0.406926\n",
       "2015-12-31    0.530119\n",
       "Freq: M, dtype: float64"
      ]
     },
     "execution_count": 41,
     "metadata": {},
     "output_type": "execute_result"
    }
   ],
   "source": [
    "#4) Average For each calendar month\n",
    "s.resample('M', how='mean')"
   ]
  },
  {
   "cell_type": "code",
   "execution_count": 42,
   "metadata": {},
   "outputs": [
    {
     "name": "stderr",
     "output_type": "stream",
     "text": [
      "C:\\Users\\HP\\Anaconda3\\lib\\site-packages\\ipykernel_launcher.py:3: FutureWarning: pd.TimeGrouper is deprecated and will be removed; Please use pd.Grouper(freq=...)\n",
      "  This is separate from the ipykernel package so we can avoid doing imports until\n"
     ]
    },
    {
     "data": {
      "text/plain": [
       "2015-01-31   2015-01-06\n",
       "2015-05-31   2015-03-19\n",
       "2015-09-30   2015-06-09\n",
       "2016-01-31   2015-11-03\n",
       "dtype: datetime64[ns]"
      ]
     },
     "execution_count": 42,
     "metadata": {},
     "output_type": "execute_result"
    }
   ],
   "source": [
    "#5) For each group of four consecutive calendar months in s, find the date on which the\n",
    "#highest value occurred.\n",
    "s.groupby(pd.TimeGrouper('4M')).idxmax()"
   ]
  }
 ],
 "metadata": {
  "kernelspec": {
   "display_name": "Python 3",
   "language": "python",
   "name": "python3"
  },
  "language_info": {
   "codemirror_mode": {
    "name": "ipython",
    "version": 3
   },
   "file_extension": ".py",
   "mimetype": "text/x-python",
   "name": "python",
   "nbconvert_exporter": "python",
   "pygments_lexer": "ipython3",
   "version": "3.6.5"
  }
 },
 "nbformat": 4,
 "nbformat_minor": 2
}
